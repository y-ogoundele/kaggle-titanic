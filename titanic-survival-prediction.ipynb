{
 "cells": [
  {
   "cell_type": "markdown",
   "metadata": {},
   "source": [
    "# Predicting survival on the Titanic\n",
    "\n",
    "\n",
    "_This notebook contains Python script I used to predict the survival of passengers._\n",
    "\n",
    "The sinking of the RMS Titanic is one of the most infamous shipwrecks in history.  On April 15, 1912, during her maiden voyage, the Titanic sank after colliding with an iceberg, killing 1502 out of 2224 passengers and crew. This sensational tragedy shocked the international community and led to better safety regulations for ships.\n",
    "\n",
    "One of the reasons that the shipwreck led to such loss of life was that there were not enough lifeboats for the passengers and crew. Although there was some element of luck involved in surviving the sinking, some groups of people were more likely to survive than others, such as women, children, and the upper-class.\n",
    "\n",
    "The aim of this problem is to classify passengers in two categories (survived or did not survive). The metric used to rank submissions is prediction accuracy.\n",
    "\n",
    "## Structure\n",
    "\n",
    "I followed the following steps to classify passengers as accurately as possible:\n",
    "> ### 1- Cleaning the dataset\n",
    "> ### 2- Exploratory analysis\n",
    "> ### 3- Preprocessing the dataset\n",
    "> ### 4- Model selection and assesment\n",
    "\n",
    "***\n",
    "\n",
    "## 1 - Cleaning the dataset\n",
    "I first had a quick look at the datasets available, their shape and the type of data in each column, as well as to see if there were any columns with missing data."
   ]
  },
  {
   "cell_type": "code",
   "execution_count": 169,
   "metadata": {},
   "outputs": [
    {
     "name": "stdout",
     "output_type": "stream",
     "text": [
      "   PassengerId  Survived  Pclass  \\\n",
      "0            1         0       3   \n",
      "1            2         1       1   \n",
      "2            3         1       3   \n",
      "3            4         1       1   \n",
      "4            5         0       3   \n",
      "\n",
      "                                                Name     Sex   Age  SibSp  \\\n",
      "0                            Braund, Mr. Owen Harris    male  22.0      1   \n",
      "1  Cumings, Mrs. John Bradley (Florence Briggs Th...  female  38.0      1   \n",
      "2                             Heikkinen, Miss. Laina  female  26.0      0   \n",
      "3       Futrelle, Mrs. Jacques Heath (Lily May Peel)  female  35.0      1   \n",
      "4                           Allen, Mr. William Henry    male  35.0      0   \n",
      "\n",
      "   Parch            Ticket     Fare Cabin Embarked  \n",
      "0      0         A/5 21171   7.2500   NaN        S  \n",
      "1      0          PC 17599  71.2833   C85        C  \n",
      "2      0  STON/O2. 3101282   7.9250   NaN        S  \n",
      "3      0            113803  53.1000  C123        S  \n",
      "4      0            373450   8.0500   NaN        S  \n"
     ]
    }
   ],
   "source": [
    "import pandas as pd\n",
    "import numpy as np\n",
    "import seaborn as sns\n",
    "import matplotlib.pyplot as plt\n",
    "import warnings\n",
    "warnings.filterwarnings('ignore')\n",
    "\n",
    "train_df=pd.read_csv('titanic_data/train.csv', encoding='latin-1')\n",
    "test_df=pd.read_csv('titanic_data/test.csv', encoding='latin-1')\n",
    "print(train_df.head())"
   ]
  },
  {
   "cell_type": "code",
   "execution_count": 170,
   "metadata": {},
   "outputs": [
    {
     "name": "stdout",
     "output_type": "stream",
     "text": [
      "(891, 12) (418, 11)\n"
     ]
    }
   ],
   "source": [
    "print(train_df.shape, test_df.shape)"
   ]
  },
  {
   "cell_type": "code",
   "execution_count": 171,
   "metadata": {},
   "outputs": [
    {
     "name": "stdout",
     "output_type": "stream",
     "text": [
      "<class 'pandas.core.frame.DataFrame'>\n",
      "RangeIndex: 891 entries, 0 to 890\n",
      "Data columns (total 12 columns):\n",
      "PassengerId    891 non-null int64\n",
      "Survived       891 non-null int64\n",
      "Pclass         891 non-null int64\n",
      "Name           891 non-null object\n",
      "Sex            891 non-null object\n",
      "Age            714 non-null float64\n",
      "SibSp          891 non-null int64\n",
      "Parch          891 non-null int64\n",
      "Ticket         891 non-null object\n",
      "Fare           891 non-null float64\n",
      "Cabin          204 non-null object\n",
      "Embarked       889 non-null object\n",
      "dtypes: float64(2), int64(5), object(5)\n",
      "memory usage: 83.6+ KB\n"
     ]
    }
   ],
   "source": [
    "train_df.info()"
   ]
  },
  {
   "cell_type": "code",
   "execution_count": 172,
   "metadata": {},
   "outputs": [
    {
     "name": "stdout",
     "output_type": "stream",
     "text": [
      "<class 'pandas.core.frame.DataFrame'>\n",
      "RangeIndex: 418 entries, 0 to 417\n",
      "Data columns (total 11 columns):\n",
      "PassengerId    418 non-null int64\n",
      "Pclass         418 non-null int64\n",
      "Name           418 non-null object\n",
      "Sex            418 non-null object\n",
      "Age            332 non-null float64\n",
      "SibSp          418 non-null int64\n",
      "Parch          418 non-null int64\n",
      "Ticket         418 non-null object\n",
      "Fare           417 non-null float64\n",
      "Cabin          91 non-null object\n",
      "Embarked       418 non-null object\n",
      "dtypes: float64(2), int64(4), object(5)\n",
      "memory usage: 36.0+ KB\n"
     ]
    }
   ],
   "source": [
    "test_df.info()"
   ]
  },
  {
   "cell_type": "markdown",
   "metadata": {},
   "source": [
    "The split between the train and the test datasets is roughly 70-30. \n",
    "\n",
    "Here we are dealing with both categorical features (__Sex__, __Embarked__, __Pclass__), discrete numerical features (__SibSp__, __Parch__), continuous numerical features (__Age__, __Fare__) and \"raw\" data (__Ticket__, __Cabin__ and __Name__).\n",
    "\n",
    "### Creating extra features\n",
    "\n",
    "Some extra features can be created based on the existing set of features:\n",
    "- __Title__ (Mr, Mrs, Miss, Master and Other) based on passengers' names\n",
    "- __Block__ (A, B, C, D, E, F, G, T or U for Unknown) based on __Cabin__. Some passengers have several cabins, while others have none.\n",
    "\n",
    "I defined the functions below to create those extra features:"
   ]
  },
  {
   "cell_type": "code",
   "execution_count": 173,
   "metadata": {},
   "outputs": [
    {
     "data": {
      "image/png": "[encoded data removed]",
      "text/plain": [
       "<matplotlib.figure.Figure at 0x1a1edb3f60>"
      ]
     },
     "metadata": {},
     "output_type": "display_data"
    }
   ],
   "source": [
    "def extract_title(df):\n",
    "    df['Title']=df.Name.apply(lambda x: x.split(', ')[1].split('.')[0])\n",
    "    return(df)\n",
    "\n",
    "def extract_block_letter(df):\n",
    "    df.Cabin=df.Cabin.fillna('U')\n",
    "    df.Cabin=df.Cabin.astype(str)\n",
    "    df['Block']=df.Cabin.apply(lambda c:c[0])\n",
    "    return(df)\n",
    "\n",
    "train_df=extract_title(train_df)\n",
    "train_df=extract_block_letter(train_df)\n",
    "\n",
    "title_plot=sns.countplot(x='Title', data=train_df)\n",
    "title_plot.set_xticklabels(title_plot.get_xticklabels(), rotation=25, ha=\"right\")\n",
    "plt.tight_layout()\n",
    "plt.title('Number of passenger per title')\n",
    "plt.show()"
   ]
  },
  {
   "cell_type": "markdown",
   "metadata": {},
   "source": [
    "Here I decided to use only the 4 most frequent titles ('Mr', 'Mrs', 'Miss' and 'Master'), and grouped the rest under the name 'Other'. "
   ]
  },
  {
   "cell_type": "code",
   "execution_count": 174,
   "metadata": {
    "collapsed": true
   },
   "outputs": [],
   "source": [
    "def simplify_titles(df):\n",
    "    main_titles=['Mr', 'Mrs', 'Miss', 'Master']\n",
    "    df['Title'].loc[~df['Title'].isin(main_titles)]='Other'\n",
    "    return(df)\n",
    "\n",
    "train_df=simplify_titles(train_df)"
   ]
  },
  {
   "cell_type": "markdown",
   "metadata": {},
   "source": [
    "### Dealing with missing data"
   ]
  },
  {
   "cell_type": "code",
   "execution_count": 175,
   "metadata": {},
   "outputs": [
    {
     "data": {
      "text/plain": [
       "PassengerId      0\n",
       "Survived         0\n",
       "Pclass           0\n",
       "Name             0\n",
       "Sex              0\n",
       "Age            177\n",
       "SibSp            0\n",
       "Parch            0\n",
       "Ticket           0\n",
       "Fare             0\n",
       "Cabin            0\n",
       "Embarked         2\n",
       "Title            0\n",
       "Block            0\n",
       "dtype: int64"
      ]
     },
     "execution_count": 175,
     "metadata": {},
     "output_type": "execute_result"
    }
   ],
   "source": [
    "train_df.isnull().sum()"
   ]
  },
  {
   "cell_type": "code",
   "execution_count": 176,
   "metadata": {},
   "outputs": [
    {
     "data": {
      "text/plain": [
       "PassengerId      0\n",
       "Pclass           0\n",
       "Name             0\n",
       "Sex              0\n",
       "Age             86\n",
       "SibSp            0\n",
       "Parch            0\n",
       "Ticket           0\n",
       "Fare             1\n",
       "Cabin          327\n",
       "Embarked         0\n",
       "dtype: int64"
      ]
     },
     "execution_count": 176,
     "metadata": {},
     "output_type": "execute_result"
    }
   ],
   "source": [
    "test_df.isnull().sum()"
   ]
  },
  {
   "cell_type": "markdown",
   "metadata": {},
   "source": [
    "It seems there are rows with missing data in the __Age__, __Fare__, __Embarked__ and __Cabin__ columns in both the training and test \n",
    "sets. This is confirmed when we check specifically for null values. "
   ]
  },
  {
   "cell_type": "code",
   "execution_count": 177,
   "metadata": {
    "scrolled": true
   },
   "outputs": [
    {
     "name": "stdout",
     "output_type": "stream",
     "text": [
      "3    0.697234\n",
      "2    0.244541\n",
      "1    0.058224\n",
      "Name: Pclass, dtype: float64\n"
     ]
    }
   ],
   "source": [
    "print(train_df.loc[train_df.Block=='U'].Pclass.value_counts()/train_df.loc[train_df.Block=='U'].shape[0])"
   ]
  },
  {
   "cell_type": "markdown",
   "metadata": {
    "collapsed": true
   },
   "source": [
    "When looking at the __Class__ of the passengers with missing cabin data, roughly 70% of them was from the third class. We can safely infer that cabins were optional for third class passengers. Approximately 6% of the passengers with a missing __Cabin__ number were in first class. We will have to assume that this is actual missing data i.e. they had a cabin but it is not in the dataset.\n",
    "\n",
    "Missing data in other columns in the training set (__Age__ and __Embarked__) and in the test set (__Age__ and __Fare__) are replaced using the mean or the most frequent value of the feature, depending on whether the feature is categorical or continuous. For the __Age__ feature, since a large value of rows are affected, I decided to use the __Title__ present in the Name feature as a proxy for the __Age__. To fill missing age values of passengers, I used the average age of passengers with the same __Title__ in the training set. "
   ]
  },
  {
   "cell_type": "code",
   "execution_count": 178,
   "metadata": {
    "collapsed": true
   },
   "outputs": [],
   "source": [
    "def fill_missing_ages(df, train_df):\n",
    "    titles=['Mr', 'Mrs', 'Miss', 'Master', 'Other']\n",
    "    avg_age={titles[i]:train_df.loc[train_df['Title']==titles[i]].Age.mean() for i in range(0, len(titles))}\n",
    "    df.Age=df.apply(lambda row: avg_age[row['Title']] if np.isnan(row['Age']) else row['Age'], axis=1)\n",
    "    return(df)\n",
    "\n",
    "train_df=fill_missing_ages(train_df, train_df)"
   ]
  },
  {
   "cell_type": "markdown",
   "metadata": {},
   "source": [
    "There are only two rows with missing __Embarked__ data. Both of the passengers were single females travelling in first class."
   ]
  },
  {
   "cell_type": "code",
   "execution_count": 179,
   "metadata": {},
   "outputs": [
    {
     "data": {
      "text/html": [
       "<div>\n",
       "<style>\n",
       "    .dataframe thead tr:only-child th {\n",
       "        text-align: right;\n",
       "    }\n",
       "\n",
       "    .dataframe thead th {\n",
       "        text-align: left;\n",
       "    }\n",
       "\n",
       "    .dataframe tbody tr th {\n",
       "        vertical-align: top;\n",
       "    }\n",
       "</style>\n",
       "<table border=\"1\" class=\"dataframe\">\n",
       "  <thead>\n",
       "    <tr style=\"text-align: right;\">\n",
       "      <th></th>\n",
       "      <th>PassengerId</th>\n",
       "      <th>Survived</th>\n",
       "      <th>Pclass</th>\n",
       "      <th>Name</th>\n",
       "      <th>Sex</th>\n",
       "      <th>Age</th>\n",
       "      <th>SibSp</th>\n",
       "      <th>Parch</th>\n",
       "      <th>Ticket</th>\n",
       "      <th>Fare</th>\n",
       "      <th>Cabin</th>\n",
       "      <th>Embarked</th>\n",
       "      <th>Title</th>\n",
       "      <th>Block</th>\n",
       "    </tr>\n",
       "  </thead>\n",
       "  <tbody>\n",
       "    <tr>\n",
       "      <th>61</th>\n",
       "      <td>62</td>\n",
       "      <td>1</td>\n",
       "      <td>1</td>\n",
       "      <td>Icard, Miss. Amelie</td>\n",
       "      <td>female</td>\n",
       "      <td>38.0</td>\n",
       "      <td>0</td>\n",
       "      <td>0</td>\n",
       "      <td>113572</td>\n",
       "      <td>80.0</td>\n",
       "      <td>B28</td>\n",
       "      <td>NaN</td>\n",
       "      <td>Miss</td>\n",
       "      <td>B</td>\n",
       "    </tr>\n",
       "    <tr>\n",
       "      <th>829</th>\n",
       "      <td>830</td>\n",
       "      <td>1</td>\n",
       "      <td>1</td>\n",
       "      <td>Stone, Mrs. George Nelson (Martha Evelyn)</td>\n",
       "      <td>female</td>\n",
       "      <td>62.0</td>\n",
       "      <td>0</td>\n",
       "      <td>0</td>\n",
       "      <td>113572</td>\n",
       "      <td>80.0</td>\n",
       "      <td>B28</td>\n",
       "      <td>NaN</td>\n",
       "      <td>Mrs</td>\n",
       "      <td>B</td>\n",
       "    </tr>\n",
       "  </tbody>\n",
       "</table>\n",
       "</div>"
      ],
      "text/plain": [
       "     PassengerId  Survived  Pclass                                       Name  \\\n",
       "61            62         1       1                        Icard, Miss. Amelie   \n",
       "829          830         1       1  Stone, Mrs. George Nelson (Martha Evelyn)   \n",
       "\n",
       "        Sex   Age  SibSp  Parch  Ticket  Fare Cabin Embarked Title Block  \n",
       "61   female  38.0      0      0  113572  80.0   B28      NaN  Miss     B  \n",
       "829  female  62.0      0      0  113572  80.0   B28      NaN   Mrs     B  "
      ]
     },
     "execution_count": 179,
     "metadata": {},
     "output_type": "execute_result"
    }
   ],
   "source": [
    "train_df.loc[train_df.Embarked.isnull()]"
   ]
  },
  {
   "cell_type": "code",
   "execution_count": 180,
   "metadata": {
    "scrolled": true
   },
   "outputs": [
    {
     "data": {
      "image/png": "[encoded data removed]",
      "text/plain": [
       "<matplotlib.figure.Figure at 0x1a1ffcdb00>"
      ]
     },
     "metadata": {},
     "output_type": "display_data"
    }
   ],
   "source": [
    "sns.countplot(x='Embarked', data= train_df.loc[train_df.Pclass==1])\n",
    "plt.title('Number of 1st class passengers by city of embarkment')\n",
    "plt.show()"
   ]
  },
  {
   "cell_type": "markdown",
   "metadata": {},
   "source": [
    "Most passengers travelling in first class boarded the Titanic in Southampton. I decided to set those two missing values to 'C'"
   ]
  },
  {
   "cell_type": "code",
   "execution_count": 181,
   "metadata": {},
   "outputs": [
    {
     "data": {
      "text/html": [
       "<div>\n",
       "<style>\n",
       "    .dataframe thead tr:only-child th {\n",
       "        text-align: right;\n",
       "    }\n",
       "\n",
       "    .dataframe thead th {\n",
       "        text-align: left;\n",
       "    }\n",
       "\n",
       "    .dataframe tbody tr th {\n",
       "        vertical-align: top;\n",
       "    }\n",
       "</style>\n",
       "<table border=\"1\" class=\"dataframe\">\n",
       "  <thead>\n",
       "    <tr style=\"text-align: right;\">\n",
       "      <th></th>\n",
       "      <th>PassengerId</th>\n",
       "      <th>Pclass</th>\n",
       "      <th>Name</th>\n",
       "      <th>Sex</th>\n",
       "      <th>Age</th>\n",
       "      <th>SibSp</th>\n",
       "      <th>Parch</th>\n",
       "      <th>Ticket</th>\n",
       "      <th>Fare</th>\n",
       "      <th>Cabin</th>\n",
       "      <th>Embarked</th>\n",
       "    </tr>\n",
       "  </thead>\n",
       "  <tbody>\n",
       "    <tr>\n",
       "      <th>152</th>\n",
       "      <td>1044</td>\n",
       "      <td>3</td>\n",
       "      <td>Storey, Mr. Thomas</td>\n",
       "      <td>male</td>\n",
       "      <td>60.5</td>\n",
       "      <td>0</td>\n",
       "      <td>0</td>\n",
       "      <td>3701</td>\n",
       "      <td>NaN</td>\n",
       "      <td>NaN</td>\n",
       "      <td>S</td>\n",
       "    </tr>\n",
       "  </tbody>\n",
       "</table>\n",
       "</div>"
      ],
      "text/plain": [
       "     PassengerId  Pclass                Name   Sex   Age  SibSp  Parch Ticket  \\\n",
       "152         1044       3  Storey, Mr. Thomas  male  60.5      0      0   3701   \n",
       "\n",
       "     Fare Cabin Embarked  \n",
       "152   NaN   NaN        S  "
      ]
     },
     "execution_count": 181,
     "metadata": {},
     "output_type": "execute_result"
    }
   ],
   "source": [
    "train_df.Embarked.fillna('S', inplace=True)\n",
    "test_df.loc[test_df.Fare.isnull()]"
   ]
  },
  {
   "cell_type": "markdown",
   "metadata": {},
   "source": [
    "In the test set, only one passenger has missing __Fare__ data. I set the value of the only missing fare in the test set to the average fare of a 3rd class passenger (from the training set)"
   ]
  },
  {
   "cell_type": "code",
   "execution_count": 182,
   "metadata": {
    "collapsed": true
   },
   "outputs": [],
   "source": [
    "test_df.Fare.fillna(train_df.Fare.loc[train_df.Pclass==3].mean(), inplace=True)"
   ]
  },
  {
   "cell_type": "markdown",
   "metadata": {},
   "source": [
    "***\n",
    "## 2 - Exploratory analysis\n",
    "\n",
    "I had a more in-depth look at the different features available to predict passenger survival, first at the impact of categorical variables on the survival rate."
   ]
  },
  {
   "cell_type": "code",
   "execution_count": 183,
   "metadata": {},
   "outputs": [
    {
     "data": {
      "image/png": "[encoded data removed]",
      "text/plain": [
       "<matplotlib.figure.Figure at 0x1a1da51320>"
      ]
     },
     "metadata": {},
     "output_type": "display_data"
    }
   ],
   "source": [
    "fig, ax = plt.subplots(3,2)\n",
    "fig.set_size_inches(10, 10)\n",
    "sns.countplot(x='Survived', data= train_df, ax=ax[0,0])\n",
    "sns.barplot(x='Sex',y='Survived', data= train_df, ax=ax[0,1], ci=None)\n",
    "sns.barplot(x='Pclass',y='Survived', data= train_df, ax=ax[1,0], ci=None)\n",
    "sns.barplot(x='Embarked',y='Survived', data= train_df, ax=ax[1,1], ci=None)\n",
    "sns.barplot(x='Title',y='Survived', data= train_df, ax=ax[2,0], ci=None)\n",
    "sns.barplot(x='Block',y='Survived', data= train_df, ax=ax[2,1], ci=None)\n",
    "plt.show()"
   ]
  },
  {
   "cell_type": "markdown",
   "metadata": {},
   "source": [
    "We seem to be given a somewhat balanced training set, since 38% of the passengers in the training set survived (compared to 32% overall).\n",
    "\n",
    "Judging from these plots, we can infer that:\n",
    "- The class __Pclass__ of the passenger is a good predictor of survival \n",
    "- The gender __Sex__ of the passenger is a good predictor of survival \n",
    "- The deck letter __Block__ is a good predictor of survival. One hypothesis might be that people closest to the lifeboats had a better chance of survival. \n",
    "- The __Title__ of the passenger is a good predictor of survival. What is especially interesting is that young men (whose title is usually 'Master') have a much better chance of survival than older men. Age seems to be an important factor of survival.\n",
    "\n",
    "Next, I checked the continuous variables, and how they influenced passenger survival.\n",
    "The __Fare__ feature is especially interesting. It seems that 75% of the passengers in the training set paid £31 or less to board the boat, while the 10 most expensive ticket cost more than £240. "
   ]
  },
  {
   "cell_type": "code",
   "execution_count": 184,
   "metadata": {},
   "outputs": [
    {
     "data": {
      "text/html": [
       "<div>\n",
       "<style>\n",
       "    .dataframe thead tr:only-child th {\n",
       "        text-align: right;\n",
       "    }\n",
       "\n",
       "    .dataframe thead th {\n",
       "        text-align: left;\n",
       "    }\n",
       "\n",
       "    .dataframe tbody tr th {\n",
       "        vertical-align: top;\n",
       "    }\n",
       "</style>\n",
       "<table border=\"1\" class=\"dataframe\">\n",
       "  <thead>\n",
       "    <tr style=\"text-align: right;\">\n",
       "      <th></th>\n",
       "      <th>PassengerId</th>\n",
       "      <th>Survived</th>\n",
       "      <th>Pclass</th>\n",
       "      <th>Age</th>\n",
       "      <th>SibSp</th>\n",
       "      <th>Parch</th>\n",
       "      <th>Fare</th>\n",
       "    </tr>\n",
       "  </thead>\n",
       "  <tbody>\n",
       "    <tr>\n",
       "      <th>count</th>\n",
       "      <td>891.000000</td>\n",
       "      <td>891.000000</td>\n",
       "      <td>891.000000</td>\n",
       "      <td>891.000000</td>\n",
       "      <td>891.000000</td>\n",
       "      <td>891.000000</td>\n",
       "      <td>891.000000</td>\n",
       "    </tr>\n",
       "    <tr>\n",
       "      <th>mean</th>\n",
       "      <td>446.000000</td>\n",
       "      <td>0.383838</td>\n",
       "      <td>2.308642</td>\n",
       "      <td>29.755090</td>\n",
       "      <td>0.523008</td>\n",
       "      <td>0.381594</td>\n",
       "      <td>32.204208</td>\n",
       "    </tr>\n",
       "    <tr>\n",
       "      <th>std</th>\n",
       "      <td>257.353842</td>\n",
       "      <td>0.486592</td>\n",
       "      <td>0.836071</td>\n",
       "      <td>13.277584</td>\n",
       "      <td>1.102743</td>\n",
       "      <td>0.806057</td>\n",
       "      <td>49.693429</td>\n",
       "    </tr>\n",
       "    <tr>\n",
       "      <th>min</th>\n",
       "      <td>1.000000</td>\n",
       "      <td>0.000000</td>\n",
       "      <td>1.000000</td>\n",
       "      <td>0.420000</td>\n",
       "      <td>0.000000</td>\n",
       "      <td>0.000000</td>\n",
       "      <td>0.000000</td>\n",
       "    </tr>\n",
       "    <tr>\n",
       "      <th>25%</th>\n",
       "      <td>223.500000</td>\n",
       "      <td>0.000000</td>\n",
       "      <td>2.000000</td>\n",
       "      <td>21.773973</td>\n",
       "      <td>0.000000</td>\n",
       "      <td>0.000000</td>\n",
       "      <td>7.910400</td>\n",
       "    </tr>\n",
       "    <tr>\n",
       "      <th>50%</th>\n",
       "      <td>446.000000</td>\n",
       "      <td>0.000000</td>\n",
       "      <td>3.000000</td>\n",
       "      <td>30.000000</td>\n",
       "      <td>0.000000</td>\n",
       "      <td>0.000000</td>\n",
       "      <td>14.454200</td>\n",
       "    </tr>\n",
       "    <tr>\n",
       "      <th>75%</th>\n",
       "      <td>668.500000</td>\n",
       "      <td>1.000000</td>\n",
       "      <td>3.000000</td>\n",
       "      <td>35.898148</td>\n",
       "      <td>1.000000</td>\n",
       "      <td>0.000000</td>\n",
       "      <td>31.000000</td>\n",
       "    </tr>\n",
       "    <tr>\n",
       "      <th>max</th>\n",
       "      <td>891.000000</td>\n",
       "      <td>1.000000</td>\n",
       "      <td>3.000000</td>\n",
       "      <td>80.000000</td>\n",
       "      <td>8.000000</td>\n",
       "      <td>6.000000</td>\n",
       "      <td>512.329200</td>\n",
       "    </tr>\n",
       "  </tbody>\n",
       "</table>\n",
       "</div>"
      ],
      "text/plain": [
       "       PassengerId    Survived      Pclass         Age       SibSp  \\\n",
       "count   891.000000  891.000000  891.000000  891.000000  891.000000   \n",
       "mean    446.000000    0.383838    2.308642   29.755090    0.523008   \n",
       "std     257.353842    0.486592    0.836071   13.277584    1.102743   \n",
       "min       1.000000    0.000000    1.000000    0.420000    0.000000   \n",
       "25%     223.500000    0.000000    2.000000   21.773973    0.000000   \n",
       "50%     446.000000    0.000000    3.000000   30.000000    0.000000   \n",
       "75%     668.500000    1.000000    3.000000   35.898148    1.000000   \n",
       "max     891.000000    1.000000    3.000000   80.000000    8.000000   \n",
       "\n",
       "            Parch        Fare  \n",
       "count  891.000000  891.000000  \n",
       "mean     0.381594   32.204208  \n",
       "std      0.806057   49.693429  \n",
       "min      0.000000    0.000000  \n",
       "25%      0.000000    7.910400  \n",
       "50%      0.000000   14.454200  \n",
       "75%      0.000000   31.000000  \n",
       "max      6.000000  512.329200  "
      ]
     },
     "execution_count": 184,
     "metadata": {},
     "output_type": "execute_result"
    }
   ],
   "source": [
    "train_df.describe()"
   ]
  },
  {
   "cell_type": "code",
   "execution_count": 185,
   "metadata": {},
   "outputs": [
    {
     "data": {
      "image/png": "[encoded data removed]",
      "text/plain": [
       "<matplotlib.figure.Figure at 0x1a1e958d30>"
      ]
     },
     "metadata": {},
     "output_type": "display_data"
    }
   ],
   "source": [
    "sns.distplot(train_df.loc[train_df.Survived==1].Age,bins=(0,6,13,18,25,35,60,100), hist=False, color='red', label='Survived')\n",
    "sns.distplot(train_df.loc[train_df.Survived==0].Age,bins=(0,6,13,18,25,35,60,100), hist=False, color='blue', label='Deceased')\n",
    "plt.title('Age distribution among Titanic passengers')\n",
    "plt.autoscale()\n",
    "plt.show()"
   ]
  },
  {
   "cell_type": "markdown",
   "metadata": {},
   "source": [
    "When plotting the __Age__ distribution of surviors and of deceased passengers, we can see that children under 10 seem to take a larger proportion of the survivor population, while adults over 30 are more frequent in the deceased population."
   ]
  },
  {
   "cell_type": "code",
   "execution_count": 186,
   "metadata": {},
   "outputs": [
    {
     "data": {
      "image/png": "[encoded data removed]",
      "text/plain": [
       "<matplotlib.figure.Figure at 0x1a1dba26d8>"
      ]
     },
     "metadata": {},
     "output_type": "display_data"
    }
   ],
   "source": [
    "fig, ax =plt.subplots(2)\n",
    "fig.set_size_inches(8, 10)\n",
    "sns.barplot(x='SibSp', y='Survived', data=train_df, ax=ax[0], ci=None)\n",
    "sns.barplot(x='Parch', y='Survived', data=train_df, ax=ax[1], ci=None)\n",
    "plt.show()"
   ]
  },
  {
   "cell_type": "markdown",
   "metadata": {},
   "source": [
    "Next, I looked at the relationships between passengers, and how they impacted their survival. It seems that being part of a family initially boosts chances of survival if its size __SibSp__ is small enough (up to one other person), but it hinders them as soon as the family is larger than two members."
   ]
  },
  {
   "cell_type": "code",
   "execution_count": 187,
   "metadata": {},
   "outputs": [
    {
     "data": {
      "image/png": "[encoded data removed]",
      "text/plain": [
       "<matplotlib.figure.Figure at 0x1a1e885cc0>"
      ]
     },
     "metadata": {},
     "output_type": "display_data"
    }
   ],
   "source": [
    "sns.distplot(train_df.loc[(train_df.Survived==1)].Fare, hist=False, color='red', label='Survived')\n",
    "sns.distplot(train_df.loc[(train_df.Survived==0)].Fare, hist=False, color='blue', label='Deceased')\n",
    "plt.autoscale()\n",
    "plt.title('Fare distribution among Titanic passengers')\n",
    "plt.show()"
   ]
  },
  {
   "cell_type": "markdown",
   "metadata": {},
   "source": [
    "Then, I looked at the __Fare__ distribution among survivors and deceased passengers. It seems that people that paid a low fare (approximately under £20) make up a much larger proportion of the deceased population than the survivor population.\n",
    "\n",
    "Based on these first insights, I decided to encode the __Age__ and __Fare__ features into categorical variables using value bins.\n",
    "\n",
    "I encoded the __Age__ feature into 7 categories: Infant (0 to 6), Child (6 to 13), Teen (13 to 18), Student (18 to 25), Young Adult (25 to 40), Adult (40 to 60) and Elderly (60+). I encoded the __Fare__ feature using 4 categories based on its quartiles. I used the two functions below to encode the variables."
   ]
  },
  {
   "cell_type": "code",
   "execution_count": 188,
   "metadata": {
    "collapsed": true
   },
   "outputs": [],
   "source": [
    "def create_age_buckets(df):\n",
    "    bins = (-1, 6, 13, 18, 25, 40, 60, 100)\n",
    "    group_names = ['Infant', 'Child', 'Teen', 'Student', 'Young_Adult', 'Adult', 'Elderly']\n",
    "    buckets = pd.cut(df.Age, bins, labels=group_names)\n",
    "    df.Age = buckets\n",
    "    return(df)\n",
    "\n",
    "def create_fare_buckets(df):\n",
    "    bins=(-1,8,15,31,1000)\n",
    "    group_names = ['1_quartile', '2_quartile', '3_quartile', '4_quartile']\n",
    "    categories = pd.cut(df.Fare, bins, labels=group_names)\n",
    "    df.Fare = categories\n",
    "    return(df)\n",
    "\n",
    "train_df=create_age_buckets(train_df)\n",
    "train_df=create_fare_buckets(train_df)"
   ]
  },
  {
   "cell_type": "code",
   "execution_count": 189,
   "metadata": {},
   "outputs": [
    {
     "data": {
      "image/png": "[encoded data removed]",
      "text/plain": [
       "<matplotlib.figure.Figure at 0x1a1dc001d0>"
      ]
     },
     "metadata": {},
     "output_type": "display_data"
    }
   ],
   "source": [
    "fig, ax =plt.subplots(1,2)\n",
    "fig.set_size_inches(16, 5)\n",
    "sns.barplot(x='Age', y='Survived', data=train_df, ax=ax[0], ci=None)\n",
    "sns.barplot(x='Fare', y='Survived', data=train_df, ax=ax[1], ci=None)\n",
    "plt.show()"
   ]
  },
  {
   "cell_type": "markdown",
   "metadata": {},
   "source": [
    "The two graphs above confirm the fact that younger passengers as well as passengers with higher fares had a better survival rate than others.\n",
    "***\n",
    "## 3 - Preprocessing the dataset\n",
    "\n",
    "I created a _preprocess_ function, that can also be used on the test set. It aggregates all the transformations I did so far on the training set.\n",
    "The *encode_variables* function transforms the continuous features __Fare__ and __Age__ into categorical features, and encodes categorical feeatures as binary features."
   ]
  },
  {
   "cell_type": "code",
   "execution_count": 194,
   "metadata": {},
   "outputs": [
    {
     "name": "stdout",
     "output_type": "stream",
     "text": [
      "Index(['SibSp', 'Parch', 'Pclass_1', 'Pclass_2', 'Pclass_3', 'Sex_female',\n",
      "       'Sex_male', 'Age_Infant', 'Age_Child', 'Age_Teen', 'Age_Student',\n",
      "       'Age_Young_Adult', 'Age_Adult', 'Age_Elderly', 'Fare_1_quartile',\n",
      "       'Fare_2_quartile', 'Fare_3_quartile', 'Fare_4_quartile', 'Embarked_C',\n",
      "       'Embarked_Q', 'Embarked_S', 'Title_Master', 'Title_Miss', 'Title_Mr',\n",
      "       'Title_Mrs', 'Title_Other', 'Block_A', 'Block_B', 'Block_C', 'Block_D',\n",
      "       'Block_E', 'Block_F', 'Block_G', 'Block_T', 'Block_U'],\n",
      "      dtype='object')\n"
     ]
    }
   ],
   "source": [
    "from sklearn.model_selection import cross_val_score, train_test_split, GridSearchCV\n",
    "\n",
    "train_df=pd.read_csv('titanic_data/train.csv', encoding='latin-1')\n",
    "test_df=pd.read_csv('titanic_data/test.csv', encoding='latin-1')\n",
    "\n",
    "def preprocess(df, train_df):\n",
    "    # extracting extra features and dealing with missing data\n",
    "    df=extract_title(df)\n",
    "    df=extract_block_letter(df)\n",
    "    df=simplify_titles(df)\n",
    "    df=fill_missing_ages(df, train_df)\n",
    "    df.Embarked.fillna('S', inplace=True)\n",
    "    df.Fare.fillna(train_df.Fare.loc[train_df.Pclass==3].mean(), inplace=True)\n",
    "    return(df)\n",
    "    \n",
    "train_df=preprocess(train_df, train_df)\n",
    "test_df=preprocess(test_df, train_df)\n",
    "\n",
    "def encode_variables(train_df, test_df):\n",
    "    train_df=create_age_buckets(train_df)\n",
    "    train_df=create_fare_buckets(train_df)\n",
    "    test_df=create_age_buckets(test_df)\n",
    "    test_df=create_fare_buckets(test_df)\n",
    "    split_index=train_df.shape[0]\n",
    "    total_df=pd.concat([train_df.drop(['Survived'], axis=1),test_df], axis=0, ignore_index=True)\n",
    "    total_df=pd.concat([total_df.drop(['Pclass','Sex','Block', 'Age', 'Fare','Embarked','Title'], axis=1),pd.get_dummies(total_df['Pclass'].astype(str), drop_first=False, prefix='Pclass'), pd.get_dummies(total_df[['Sex','Age','Fare', 'Embarked', 'Title', 'Block']], drop_first=False)],axis=1)\n",
    "    \n",
    "    #dropping unused columns\n",
    "    total_df.drop(['PassengerId', 'Name', 'Ticket', 'Cabin'], axis=1, inplace=True)\n",
    "    return(total_df.iloc[:split_index], train_df.Survived, total_df.iloc[split_index:])\n",
    "\n",
    "X, y, test_df=encode_variables(train_df, test_df)\n",
    "print(X.columns)"
   ]
  },
  {
   "cell_type": "code",
   "execution_count": 217,
   "metadata": {
    "scrolled": true
   },
   "outputs": [
    {
     "name": "stdout",
     "output_type": "stream",
     "text": [
      "Cross validation score is 0.79 +/- 0.02\n"
     ]
    }
   ],
   "source": [
    "from sklearn.linear_model import LogisticRegression\n",
    "from sklearn.preprocessing import StandardScaler\n",
    "\n",
    "X_train, X_test, y_train, y_test=train_test_split(X,y,test_size=0.2)\n",
    "scaler=StandardScaler()\n",
    "clf=LogisticRegression(penalty='l2', solver='liblinear', fit_intercept=False)\n",
    "clf.fit(scaler.fit_transform(X_train), y_train)\n",
    "print('Cross validation score is %0.2f +/- %0.2f'%(cross_val_score(clf,scaler.transform(X),y, cv=5).mean(), cross_val_score(clf,scaler.transform(X),y, cv=5).std()))"
   ]
  },
  {
   "cell_type": "markdown",
   "metadata": {},
   "source": [
    "The proportion of deceased passengers in the training set is roughly 62%. This means that my baseline Logistic regression model performs better than an algorithm that would always give __Survived__ $ = $ 0 as output, because it would only reach approximately 62% accuracy. \n",
    "\n",
    "Next, I compared coefficients of the Logistic regression model of each feature since I normalized the dataset. I tried to see if some assumptions I drew in while conductying exploratory analysis were confirmed."
   ]
  },
  {
   "cell_type": "code",
   "execution_count": 218,
   "metadata": {},
   "outputs": [
    {
     "name": "stdout",
     "output_type": "stream",
     "text": [
      "           Features      Coef\n",
      "6          Sex_male -0.907407\n",
      "0             SibSp -0.821813\n",
      "1             Parch -0.428428\n",
      "22       Title_Miss -0.371686\n",
      "15  Fare_2_quartile -0.270994\n",
      "34          Block_U -0.263816\n",
      "12        Age_Adult -0.256031\n",
      "4          Pclass_3 -0.246931\n",
      "13      Age_Elderly -0.136983\n",
      "14  Fare_1_quartile -0.130912\n",
      "20       Embarked_S -0.104824\n",
      "33          Block_T -0.092507\n",
      "26          Block_A -0.088075\n",
      "32          Block_G -0.074209\n",
      "28          Block_C -0.021024\n",
      "24        Title_Mrs -0.009522\n",
      "8         Age_Child -0.004411\n",
      "11  Age_Young_Adult  0.008560\n",
      "23         Title_Mr  0.025281\n",
      "31          Block_F  0.030827\n",
      "25      Title_Other  0.033742\n",
      "9          Age_Teen  0.046709\n",
      "10      Age_Student  0.047626\n",
      "18       Embarked_C  0.057228\n",
      "16  Fare_3_quartile  0.086998\n",
      "19       Embarked_Q  0.087385\n",
      "3          Pclass_2  0.137641\n",
      "2          Pclass_1  0.155510\n",
      "27          Block_B  0.176920\n",
      "29          Block_D  0.253501\n",
      "30          Block_E  0.272544\n",
      "17  Fare_4_quartile  0.317110\n",
      "7        Age_Infant  0.318293\n",
      "21     Title_Master  0.656562\n",
      "5        Sex_female  0.907407\n"
     ]
    }
   ],
   "source": [
    "coef_df=pd.DataFrame()\n",
    "coef_df['Features']=list(X_train.columns)\n",
    "coef_df['Coef']=clf.coef_[0]\n",
    "print(coef_df.sort_values(['Coef']))"
   ]
  },
  {
   "cell_type": "markdown",
   "metadata": {},
   "source": [
    "The hunch I had on female passengers shaving a higher chance of survival is confirmed. Furthermore, young men (passengers with the __Title__ 'Master') do have a higher chance of survival than older men. Down at the other end of the scale, being a male passenger (with the __Title__ 'Mister'), being part of a large family or travelling in 3rd class have indeed a negative impact on survival.\n",
    "\n",
    "Next, I decided to compare several model by doing a grid-search cross validation. This method finds the best hyperparameters of each model, and returns its best performance (given by the optimal set of hyperparameters).\n",
    "I picked \n",
    "- a Logistic regression with recursive feature elimination to find the best subset of features to use, since there seems to be some rather weak predictors in our model\n",
    "- a Ridge classifier to use regularization to reduce feature multicollinearity, knowing that its L2 penalty enables us to do a smoother shrinkage\n",
    "- a linear Support Vector Classifier\n",
    "- a K Nearest Neighbors Classifier\n",
    "\n",
    "I split the training set in two, one part used to find the best hyperparameters of each model, the other to assess each model one unseen data and compare their performance."
   ]
  },
  {
   "cell_type": "code",
   "execution_count": 219,
   "metadata": {},
   "outputs": [
    {
     "name": "stdout",
     "output_type": "stream",
     "text": [
      "Logistic regression with RFE test accuracy is 0.78\n",
      "Subset selection returns 29 features\n",
      "KNN test accuracy is 0.74\n",
      "{'n_neighbors': 5, 'weights': 'distance'}\n",
      "Ridge test accuracy is 0.80\n",
      "{'alpha': 1.0, 'fit_intercept': False}\n",
      "Linear SVC test accuracy is 0.80\n",
      "{'C': 6, 'fit_intercept': False}\n"
     ]
    }
   ],
   "source": [
    "from sklearn.model_selection import GridSearchCV, cross_val_score\n",
    "from sklearn.linear_model import RidgeClassifier\n",
    "from sklearn.feature_selection import RFECV\n",
    "from sklearn.neighbors import KNeighborsClassifier\n",
    "from sklearn.svm import LinearSVC\n",
    "\n",
    "#Recursive feature elimination\n",
    "clf=LogisticRegression(fit_intercept=False)\n",
    "best_subset=RFECV(clf)\n",
    "best_subset.fit(scaler.transform(X_train), y_train)\n",
    "print('Logistic regression with RFE test accuracy is %0.2f'%best_subset.score(scaler.transform(X_test), y_test))\n",
    "print('Subset selection returns %i features'%best_subset.n_features_)\n",
    "\n",
    "#K Nearest Neighbor classifier\n",
    "param_grid={'n_neighbors':[3,5,7], 'weights':['uniform', 'distance']}\n",
    "grid_search = GridSearchCV(KNeighborsClassifier(), param_grid, cv=5)\n",
    "grid_search.fit(scaler.transform(X_train), y_train)\n",
    "print('KNN test accuracy is %0.2f'%grid_search.score(scaler.transform(X_test), y_test))\n",
    "print(grid_search.best_params_)\n",
    "\n",
    "#Ridge classifier\n",
    "param_grid={'alpha':np.arange(1,5,0.25),'fit_intercept':[False]}\n",
    "grid_search = GridSearchCV(RidgeClassifier(), param_grid, cv=5)\n",
    "grid_search.fit(scaler.transform(X_train), y_train)\n",
    "print('Ridge test accuracy is %0.2f'%grid_search.score(scaler.transform(X_test), y_test))\n",
    "print(grid_search.best_params_)\n",
    "\n",
    "#Support vector classifier\n",
    "param_grid={'C':np.arange(1,10,1), 'fit_intercept':[False]}\n",
    "grid_search = GridSearchCV(LinearSVC(), param_grid, cv=5)\n",
    "grid_search.fit(scaler.transform(X_train), y_train)\n",
    "print('Linear SVC test accuracy is %0.2f'%grid_search.score(scaler.transform(X_test), y_test))\n",
    "print(grid_search.best_params_)"
   ]
  },
  {
   "cell_type": "markdown",
   "metadata": {},
   "source": [
    "A few observations:\n",
    "\n",
    "Here, the Ridge classifier and linear SVC models outperform the baseline model. They are generally thought to be the most adapted models to this type of problem, since we do have colinearity between variables, to some degree (passengers in 3rd class are more likely to be in the 1st fare quartile for example). \n",
    "\n",
    "Combining Logistic regression with subset selection yields a poorer performance than Ridge classification. This is not surprising because because subset selection is a discrete process that often exhibit high variance so doesn't reduce prediction error, whereas shrinkage methods such as Ridge (or Lasso) are continuous, ensuring a \"soft-thresholding\" procedure."
   ]
  },
  {
   "cell_type": "code",
   "execution_count": 206,
   "metadata": {},
   "outputs": [],
   "source": [
    "grid_search.best_estimator_.fit(scaler.fit_transform(X),y)\n",
    "y_pred=grid_search.best_estimator_.predict(test_df)"
   ]
  },
  {
   "cell_type": "markdown",
   "metadata": {},
   "source": [
    "I get a score of 0.761 after submitting predictions obtained using the Ridge classifier model. \n",
    "There is a notable difference between the cross-validation accuracy and the score I get after submitting my result file. This might be because the train set has a different distribution than the test set used for the prediction."
   ]
  }
 ],
 "metadata": {
  "kernelspec": {
   "display_name": "Python 3",
   "language": "python",
   "name": "python3"
  },
  "language_info": {
   "codemirror_mode": {
    "name": "ipython",
    "version": 3
   },
   "file_extension": ".py",
   "mimetype": "text/x-python",
   "name": "python",
   "nbconvert_exporter": "python",
   "pygments_lexer": "ipython3",
   "version": "3.6.3"
  }
 },
 "nbformat": 4,
 "nbformat_minor": 2
}
